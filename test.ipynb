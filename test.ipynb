{
 "cells": [
  {
   "cell_type": "code",
   "execution_count": 11,
   "metadata": {},
   "outputs": [],
   "source": [
    "from IPython.display import HTML\n",
    "from vis import vis"
   ]
  },
  {
   "cell_type": "code",
   "execution_count": 13,
   "metadata": {},
   "outputs": [
    {
     "data": {
      "text/html": [
       "\n",
       "<script type='module'>\n",
       "\n",
       "import {LitElement, html, css} from 'https://cdn.jsdelivr.net/gh/lit/dist@2/core/lit-core.min.js';\n",
       "\n",
       "class HelloWorld extends LitElement {\n",
       "  render() {\n",
       "    return html`\n",
       "      <h1>Hello, World! 5</h1>\n",
       "    `;\n",
       "  }\n",
       "}\n",
       "\n",
       "window.customElements.define('hello-world-27622', HelloWorld);\n",
       "\n",
       "</script>\n",
       "\n",
       "<hello-world-27622 />\n"
      ],
      "text/plain": [
       "<IPython.core.display.HTML object>"
      ]
     },
     "execution_count": 13,
     "metadata": {},
     "output_type": "execute_result"
    }
   ],
   "source": [
    "vis('hello.html')"
   ]
  }
 ],
 "metadata": {
  "kernelspec": {
   "display_name": "Python 3.10.2 ('venv': venv)",
   "language": "python",
   "name": "python3"
  },
  "language_info": {
   "codemirror_mode": {
    "name": "ipython",
    "version": 3
   },
   "file_extension": ".py",
   "mimetype": "text/x-python",
   "name": "python",
   "nbconvert_exporter": "python",
   "pygments_lexer": "ipython3",
   "version": "3.10.2"
  },
  "orig_nbformat": 4,
  "vscode": {
   "interpreter": {
    "hash": "a88fa7083bfa7262872ce3247eeaf5b1e82ea353a84f2cb0b6aaf9a2f44d99ff"
   }
  }
 },
 "nbformat": 4,
 "nbformat_minor": 2
}
