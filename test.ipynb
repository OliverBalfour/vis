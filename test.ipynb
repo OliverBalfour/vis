{
 "cells": [
  {
   "cell_type": "code",
   "execution_count": 2,
   "metadata": {},
   "outputs": [],
   "source": [
    "from IPython.display import HTML\n",
    "import numpy as np\n",
    "from vis import vis"
   ]
  },
  {
   "cell_type": "code",
   "execution_count": 3,
   "metadata": {},
   "outputs": [
    {
     "data": {
      "text/html": [
       "<script>\n",
       "console.clear()\n",
       "window.latest_parameters = {\n",
       "}\n",
       "</script>\n",
       "\n",
       "<script type='module'>\n",
       "\n",
       "import {LitElement, html, css} from 'https://cdn.jsdelivr.net/gh/lit/dist@2/core/lit-core.min.js';\n",
       "\n",
       "class HelloWorld extends LitElement {\n",
       "  render() {\n",
       "    return html`\n",
       "      <h1>Hello, World!</h1>\n",
       "    `;\n",
       "  }\n",
       "}\n",
       "\n",
       "window.customElements.define('hello-world-12450426', HelloWorld);\n",
       "\n",
       "</script>\n",
       "\n",
       "<hello-world-12450426 />\n"
      ],
      "text/plain": [
       "<IPython.core.display.HTML object>"
      ]
     },
     "execution_count": 3,
     "metadata": {},
     "output_type": "execute_result"
    }
   ],
   "source": [
    "vis('hello.html')"
   ]
  },
  {
   "cell_type": "code",
   "execution_count": 14,
   "metadata": {},
   "outputs": [
    {
     "data": {
      "text/html": [
       "<script>\n",
       "console.clear()\n",
       "window.latest_parameters = {\n",
       "  tokens: [\"A\", \"B\", \"C\", \"D\", \"E\", \"F\", \"G\", \"H\"],\n",
       "  attention: [[[0.2282511529891059, -0.1, -0.1, -0.1, -0.1, -0.1, -0.1, -0.1], [0.3946058454780924, 0.07131837772522165, -0.1, -0.1, -0.1, -0.1, -0.1, -0.1], [0.5071298594772211, 0.5138313388923652, -0.047168019999583616, -0.1, -0.1, -0.1, -0.1, -0.1], [0.2801170219888076, 0.2297326527100845, 0.1935636208028693, 0.09675415565581466, -0.1, -0.1, -0.1, -0.1], [0.3547093024225607, 0.2277672366399577, 0.1373080233995226, 0.23401104718966667, 0.0193809908877062, -0.1, -0.1, -0.1], [0.5240704864896403, 0.22567309211490458, 0.20288034453996143, 0.438642579253974, 0.002931989439477478, 0.16627467790515402, -0.1, -0.1], [0.04719711908733626, -0.017173217703662036, 0.17776151870001197, 0.10398342978844502, -0.16856955236137292, 0.45322451328622315, 0.14523154324670426, -0.1], [0.41968426295498096, 0.03311511852916629, -0.0009537732298545432, -0.28199529358696585, 0.3600720814754743, 0.04333568645616395, 0.12469480590208062, -0.04702565115394672]], [[0.25734606921001923, -0.1, -0.1, -0.1, -0.1, -0.1, -0.1, -0.1], [0.06640918379788657, 0.210381496923385, -0.1, -0.1, -0.1, -0.1, -0.1, -0.1], [0.10057497129254703, 0.11513231487789002, 0.3482511318335271, -0.1, -0.1, -0.1, -0.1, -0.1], [0.5606433442574953, 0.3960873597023501, 0.19824863971974085, 0.19766131515806631, -0.1, -0.1, -0.1, -0.1], [0.019231028158774033, -0.30066618463979944, 0.4024541371805417, 0.13887945653206393, 0.25197748959849464, -0.1, -0.1, -0.1], [-0.1363167138202788, 0.2406674609426536, 0.13240214729144759, 0.25824728223696114, 0.4179689506874581, 0.0910618505800744, -0.1, -0.1], [0.5279618103568365, -0.024641440154514277, 0.2328755423160259, 0.15415591494026334, 0.12359020453474975, 0.16237889621528165, 0.6046888676481704, -0.1], [0.17638791381578625, -0.12499843804892682, 0.3032116487570722, 0.03492037596102554, 0.2846426983939756, -0.026099050099329696, 0.2146218089940524, -0.10125198153975193]], [[0.6580353140232663, -0.1, -0.1, -0.1, -0.1, -0.1, -0.1, -0.1], [0.50735441511682, 0.21416395027254717, -0.1, -0.1, -0.1, -0.1, -0.1, -0.1], [-0.03254472556381785, 0.22750799079165038, 0.24230398143139223, -0.1, -0.1, -0.1, -0.1, -0.1], [0.223168941466068, 0.1637127851269463, 0.13541918113335774, 0.13255313569363045, -0.1, -0.1, -0.1, -0.1], [0.363295446859634, 0.3573644976404432, 0.564196001038603, 0.20986049206598886, 0.37130234308010446, -0.1, -0.1, -0.1], [-0.11114473581292908, 0.2235419858314218, 0.510035463281698, 0.21148949208866094, 0.5045015037631452, 0.2979222216739308, -0.1, -0.1], [0.4470357267331768, 0.3122541335909619, 0.6086847408209676, 0.1979242846019156, 0.41551132766106913, 0.11592387238872306, 0.19755236926858824, -0.1], [-0.0986874918728112, -0.1518401372599069, 0.07333359107942813, 0.11865605297129594, 0.3974807236870135, 0.14278582823760175, 0.09114640170063329, 0.4622497131907647]]],\n",
       "}\n",
       "</script>\n",
       "\n",
       "<script type='module'>\n",
       "\n",
       "import {LitElement, html, css} from 'https://cdn.jsdelivr.net/gh/lit/dist@2/core/lit-core.min.js';\n",
       "\n",
       "// wrap everything in a function we immediately invoke to prevent polluting the global namespace\n",
       "(function(){\n",
       "\n",
       "// Load in the inputs Python leaves for us\n",
       "const {\n",
       "  attention,  // (heads, seqQ, seqK) array of floats\n",
       "  tokens,     // (seq,) array of strings\n",
       "} = window.latest_parameters;\n",
       "\n",
       "\n",
       "class AttentionMulti extends LitElement {\n",
       "  static properties = {\n",
       "  };\n",
       "\n",
       "  constructor() {\n",
       "    super();\n",
       "  }\n",
       "\n",
       "  render() {\n",
       "    return html`\n",
       "      <div>\n",
       "        ${attention.map(matrix_for_head => html`\n",
       "          <array-image-14084890 .array=${matrix_for_head} .size=${300}></array-image-14084890>\n",
       "        `)}\n",
       "      </div>\n",
       "    `;\n",
       "  }\n",
       "}\n",
       "window.customElements.define('attention-multi-14084890', AttentionMulti);\n",
       "\n",
       "\n",
       "class ArrayImage extends LitElement {\n",
       "  static properties = {\n",
       "    array: {type: Array},  // 2D array of floats\n",
       "    size: {type: Number},  // pixels\n",
       "  };\n",
       "\n",
       "  constructor() {\n",
       "    super();\n",
       "    this.array = [];\n",
       "    this.size = 0;\n",
       "  }\n",
       "\n",
       "  render() {\n",
       "    // We render the array as a grid of colored squares on an HTML5 canvas, a bitmap we can draw to\n",
       "    // We make the canvas framebuffer/image the size of the array (1 pixel per entry), and upscale it\n",
       "    // to screen resolution with CSS\n",
       "    return html`\n",
       "      <canvas width=${this.array.length} height=${this.array.length}\n",
       "        style=\"width: ${this.size}px; height: ${this.size}px;\"></canvas>\n",
       "    `;\n",
       "  }\n",
       "\n",
       "  static styles = css`\n",
       "    canvas {\n",
       "      image-rendering: pixelated;\n",
       "    }\n",
       "  `;\n",
       "\n",
       "  get canvas() { return this.shadowRoot.querySelector('canvas'); }\n",
       "\n",
       "  updated(changedProperties) {\n",
       "    this.draw();\n",
       "  }\n",
       "\n",
       "  draw() {\n",
       "    // Update the canvas size\n",
       "    const canvas = this.canvas;\n",
       "    if (canvas.width != this.array[0].length || canvas.height != this.array.length) {\n",
       "      canvas.width = this.array[0].length;\n",
       "      canvas.height = this.array.length;\n",
       "    }\n",
       "    // Operate on the raw framebuffer/image data as a flattened (height, width, 4) array of int8's\n",
       "    const ctx = canvas.getContext('2d');\n",
       "    const bitmap = ctx.getImageData(0, 0, canvas.width, canvas.height);\n",
       "    for (let y = 0; y < canvas.height; y++) {\n",
       "      for (let x = 0; x < canvas.width; x++) {\n",
       "        const value = this.array[y][x];\n",
       "        const pixel = (y * canvas.width + x) * 4;  // 4 bytes per pixel, RGBA\n",
       "        // monochromatic color scheme\n",
       "        bitmap.data[pixel + 0] = value * 255  + 30 * (value > 0);\n",
       "        bitmap.data[pixel + 1] = value * 255  + 30 * (value > 0);\n",
       "        bitmap.data[pixel + 2] = value * 255  + 30 * (value > 0);\n",
       "        bitmap.data[pixel + 3] = 255;\n",
       "      }\n",
       "    }\n",
       "    ctx.putImageData(bitmap, 0, 0);\n",
       "  }\n",
       "}\n",
       "window.customElements.define('array-image-14084890', ArrayImage);\n",
       "\n",
       "})()\n",
       "</script>\n",
       "\n",
       "<!-- Render our component -->\n",
       "<attention-multi-14084890 />\n"
      ],
      "text/plain": [
       "<IPython.core.display.HTML object>"
      ]
     },
     "execution_count": 14,
     "metadata": {},
     "output_type": "execute_result"
    }
   ],
   "source": [
    "tokens = ['A', 'B', 'C', 'D', 'E', 'F', 'G', 'H']\n",
    "attention = np.tril(np.random.normal(loc=0.3, scale=0.2, size=(3,8,8))) - 0.1\n",
    "vis('attention_multi.html', tokens=tokens, attention=attention)"
   ]
  }
 ],
 "metadata": {
  "kernelspec": {
   "display_name": "Python 3.10.2 ('venv': venv)",
   "language": "python",
   "name": "python3"
  },
  "language_info": {
   "codemirror_mode": {
    "name": "ipython",
    "version": 3
   },
   "file_extension": ".py",
   "mimetype": "text/x-python",
   "name": "python",
   "nbconvert_exporter": "python",
   "pygments_lexer": "ipython3",
   "version": "3.10.2"
  },
  "orig_nbformat": 4,
  "vscode": {
   "interpreter": {
    "hash": "a88fa7083bfa7262872ce3247eeaf5b1e82ea353a84f2cb0b6aaf9a2f44d99ff"
   }
  }
 },
 "nbformat": 4,
 "nbformat_minor": 2
}
