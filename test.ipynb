{
 "cells": [
  {
   "cell_type": "code",
   "execution_count": 2,
   "metadata": {},
   "outputs": [],
   "source": [
    "from IPython.display import HTML"
   ]
  },
  {
   "cell_type": "code",
   "execution_count": 8,
   "metadata": {},
   "outputs": [
    {
     "data": {
      "text/html": [
       "\n",
       "<!--\n",
       "Loads\n",
       "* attention: (heads, seqQ, seqK) array of floats\n",
       "* tokens: (seq,) array of strings\n",
       "-->\n",
       "<script type='module' src='./data.js'></script>\n",
       "\n",
       "<script type='module'>\n",
       "\n",
       "import {LitElement, html, css} from 'https://cdn.jsdelivr.net/gh/lit/dist@2/core/lit-core.min.js';\n",
       "\n",
       "\n",
       "// todo: how do I need import from data.js? try copying first, then import only, rel vs abs path.\n",
       "import {attention, tokens} from './data.js';\n",
       "\n",
       "// Custom elements can't be re-registered so you need to reload the entire VSCode window / Jupyter Lab tab\n",
       "// As a workaround, we \n",
       "// Prototype magic doesn't work\n",
       "function register(name, element_class) {\n",
       "  if (window.customElements.get(name)) {\n",
       "    console.warn(`Custom element <${name}> already registered. Reload the window to reload the custom element.`);\n",
       "    const existing = window.customElements.get(name);\n",
       "    console.log(existing)\n",
       "    for (let key in LitElement.prototype) {\n",
       "      existing.prototype[key] = LitElement.prototype[key].bind(existing.prototype);\n",
       "    }\n",
       "    for (let key in element_class.prototype) {\n",
       "      existing.prototype[key] = element_class.prototype[key].bind(existing.prototype);\n",
       "    }\n",
       "  } else {\n",
       "    window.customElements.define(name, element_class);\n",
       "  }\n",
       "}\n",
       "\n",
       "class HelloWorld extends LitElement {\n",
       "  render() {\n",
       "    return html`\n",
       "      <h1>Hello, World! 3</h1>\n",
       "    `;\n",
       "  }\n",
       "}\n",
       "register('hello-world', HelloWorld);\n",
       "\n",
       "// class AttentionMulti extends LitElement {\n",
       "//   static properties = {\n",
       "//   };\n",
       "\n",
       "//   constructor() {\n",
       "//     super();\n",
       "//   }\n",
       "\n",
       "//   render() {\n",
       "//     return html`\n",
       "//       <div>\n",
       "//         ${attention.map(attention_matrix_for_head => html`\n",
       "//           <array-image-${id} array=${attention_matrix_for_head} size=${300}></array-image-${id}>\n",
       "//         `)}\n",
       "//       </div>\n",
       "//     `;\n",
       "//   }\n",
       "// }\n",
       "// register('attention-multi', AttentionMulti);\n",
       "\n",
       "// class ArrayImage extends LitElement {\n",
       "//   static properties = {\n",
       "//     array: {type: Array},  // 2D array of floats\n",
       "//     size: {type: Number},  // pixels\n",
       "//   };\n",
       "\n",
       "//   constructor() {\n",
       "//     super();\n",
       "//     this.array = [];\n",
       "//     this.size = 0;\n",
       "//   }\n",
       "\n",
       "//   render() {\n",
       "//     // we make the canvas the size of the array (1px per entry), and upscale the canvas with CSS\n",
       "//     return html`\n",
       "//       <canvas width=${this.array.length} height=${this.array.length}\n",
       "//         style=\"width: ${this.size}px; height: ${this.size}px;\"></canvas>\n",
       "//     `;\n",
       "//   }\n",
       "\n",
       "//   static styles = css`\n",
       "//     canvas {\n",
       "//       image-rendering: pixelated;\n",
       "//     }\n",
       "//   `;\n",
       "\n",
       "//   get canvas() { return this.shadowRoot.querySelector('canvas'); }\n",
       "\n",
       "//   updated(changedProperties) {\n",
       "//     this.draw();\n",
       "//   }\n",
       "\n",
       "//   draw() {\n",
       "//     const canvas = this.canvas;\n",
       "//     if (canvas.width != this.array[0].length || canvas.height != this.array.length) {\n",
       "//       canvas.width = this.array[0].length;\n",
       "//       canvas.height = this.array.length;\n",
       "//     }\n",
       "//     const ctx = canvas.getContext('2d');\n",
       "//     const bitmap = ctx.getImageData(0, 0, canvas.width, canvas.height);\n",
       "//     for (let y = 0; y < canvas.height; y++) {\n",
       "//       for (let x = 0; x < canvas.width; x++) {\n",
       "//         const value = array[y][x];\n",
       "//         const pixel = (y * canvas.width + x) * 4;  // 4 bytes per pixel, RGBA\n",
       "//         // monochromatic color scheme\n",
       "//         bitmap.data[pixel + 0] = value * 255;\n",
       "//         bitmap.data[pixel + 1] = value * 255;\n",
       "//         bitmap.data[pixel + 2] = value * 255;\n",
       "//         bitmap.data[pixel + 3] = 255;\n",
       "//       }\n",
       "//     }\n",
       "//     ctx.putImageData(bitmap, 0, 0);\n",
       "//   }\n",
       "// }\n",
       "// register('array-image', ArrayImage);\n",
       "\n",
       "</script>\n",
       "\n",
       "<hello-world />\n",
       "<!-- <attention-multi /> -->\n"
      ],
      "text/plain": [
       "<IPython.core.display.HTML object>"
      ]
     },
     "execution_count": 8,
     "metadata": {},
     "output_type": "execute_result"
    }
   ],
   "source": [
    "HTML(open('attention_multi.html').read())"
   ]
  },
  {
   "cell_type": "code",
   "execution_count": 34,
   "metadata": {},
   "outputs": [],
   "source": [
    "import random\n",
    "import re\n",
    "\n",
    "def unique_custom_elements(html: str) -> str:\n",
    "  \"\"\"HTML custom elements can't be re-registered/redefined so when developing visualisations\n",
    "  you need to reload the whole VSCode window / Jupyter tab. As a workaround, we inject random numbers into the HTML string at the end of every element name\"\"\"\n",
    "  i = random.getrandbits(16)\n",
    "  # Scan for <custom-elem or </custom-elem or customElements.define('custom-elem with regex\n",
    "  return _regex.sub(rf'\\1-{i}', html)\n",
    "\n",
    "# Custom element naming grammar is https://html.spec.whatwg.org/multipage/custom-elements.html#valid-custom-element-name\n",
    "# We don't implement it perfectly (who uses \"interpunct\"s in element names?!?!) but hit the main cases\n",
    "_tag = r'<\\s*/?\\s*[a-z][a-z0-9\\._-]*-[a-z0-9\\._-]*'\n",
    "_reg = r'customElements.define\\([\"\\'][^\"\\'\\n]+'\n",
    "_regex = re.compile(rf'({_tag}|{_reg})')\n"
   ]
  },
  {
   "cell_type": "code",
   "execution_count": 35,
   "metadata": {},
   "outputs": [],
   "source": [
    "from IPython.display import HTML\n"
   ]
  },
  {
   "cell_type": "code",
   "execution_count": 38,
   "metadata": {},
   "outputs": [
    {
     "name": "stdout",
     "output_type": "stream",
     "text": [
      "</ custom-elem-hi> customElements.define('custom-elem')\n",
      "</ custom-elem-hi-33793> customElements.define('custom-elem-33793')\n"
     ]
    }
   ],
   "source": [
    "s = \"</ custom-elem-hi> customElements.define('custom-elem')\"\n",
    "print(s)\n",
    "print(unique_custom_elements(s))"
   ]
  },
  {
   "cell_type": "code",
   "execution_count": null,
   "metadata": {},
   "outputs": [],
   "source": []
  }
 ],
 "metadata": {
  "kernelspec": {
   "display_name": "Python 3.10.2 ('venv': venv)",
   "language": "python",
   "name": "python3"
  },
  "language_info": {
   "codemirror_mode": {
    "name": "ipython",
    "version": 3
   },
   "file_extension": ".py",
   "mimetype": "text/x-python",
   "name": "python",
   "nbconvert_exporter": "python",
   "pygments_lexer": "ipython3",
   "version": "3.10.2"
  },
  "orig_nbformat": 4,
  "vscode": {
   "interpreter": {
    "hash": "a88fa7083bfa7262872ce3247eeaf5b1e82ea353a84f2cb0b6aaf9a2f44d99ff"
   }
  }
 },
 "nbformat": 4,
 "nbformat_minor": 2
}
