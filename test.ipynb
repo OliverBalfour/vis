{
 "cells": [
  {
   "cell_type": "code",
   "execution_count": 1,
   "metadata": {},
   "outputs": [],
   "source": [
    "from IPython.display import HTML\n",
    "from vis import vis"
   ]
  },
  {
   "cell_type": "code",
   "execution_count": 2,
   "metadata": {},
   "outputs": [
    {
     "data": {
      "text/html": [
       "\n",
       "<script type='module'>\n",
       "\n",
       "import {LitElement, html, css} from 'https://cdn.jsdelivr.net/gh/lit/dist@2/core/lit-core.min.js';\n",
       "\n",
       "class HelloWorld extends LitElement {\n",
       "  render() {\n",
       "    return html`\n",
       "      <h1>Hello, World! 5</h1>\n",
       "    `;\n",
       "  }\n",
       "}\n",
       "\n",
       "window.customElements.define('hello-world-61071', HelloWorld);\n",
       "\n",
       "</script>\n",
       "\n",
       "<hello-world-61071 />\n"
      ],
      "text/plain": [
       "<IPython.core.display.HTML object>"
      ]
     },
     "execution_count": 2,
     "metadata": {},
     "output_type": "execute_result"
    }
   ],
   "source": [
    "vis('hello.html')"
   ]
  },
  {
   "cell_type": "code",
   "execution_count": 21,
   "metadata": {},
   "outputs": [
    {
     "data": {
      "text/html": [
       "\n",
       "<!--\n",
       "Loads\n",
       "* attention: (heads, seqQ, seqK) array of floats\n",
       "* tokens: (seq,) array of strings\n",
       "-->\n",
       "\n",
       "<script type='module'>\n",
       "\n",
       "console.clear()\n",
       "\n",
       "import {LitElement, html, css} from 'https://cdn.jsdelivr.net/gh/lit/dist@2/core/lit-core.min.js';\n",
       "\n",
       "import {attention, tokens} from './data.js';\n",
       "\n",
       "class AttentionMulti extends LitElement {\n",
       "  static properties = {\n",
       "  };\n",
       "\n",
       "  constructor() {\n",
       "    super();\n",
       "  }\n",
       "\n",
       "  render() {\n",
       "    return html`\n",
       "      <div>\n",
       "        ${attention.map(matrix_for_head => html`\n",
       "          <array-image-21955 .array=${matrix_for_head} .size=${300}></array-image-21955>\n",
       "        `)}\n",
       "      </div>\n",
       "    `;\n",
       "  }\n",
       "}\n",
       "window.customElements.define('attention-multi-21955', AttentionMulti);\n",
       "\n",
       "class ArrayImage extends LitElement {\n",
       "  static properties = {\n",
       "    array: {type: Array},  // 2D array of floats\n",
       "    size: {type: Number},  // pixels\n",
       "  };\n",
       "\n",
       "  constructor() {\n",
       "    super();\n",
       "    this.array = [];\n",
       "    this.size = 0;\n",
       "  }\n",
       "\n",
       "  render() {\n",
       "    // we make the canvas the size of the array (1px per entry), and upscale the canvas with CSS\n",
       "    return html`\n",
       "      <canvas width=${this.array.length} height=${this.array.length}\n",
       "        style=\"width: ${this.size}px; height: ${this.size}px;\"></canvas>\n",
       "    `;\n",
       "  }\n",
       "\n",
       "  static styles = css`\n",
       "    canvas {\n",
       "      image-rendering: pixelated;\n",
       "    }\n",
       "  `;\n",
       "\n",
       "  get canvas() { return this.shadowRoot.querySelector('canvas'); }\n",
       "\n",
       "  updated(changedProperties) {\n",
       "    this.draw();\n",
       "  }\n",
       "\n",
       "  draw() {\n",
       "    const canvas = this.canvas;\n",
       "    if (canvas.width != this.array[0].length || canvas.height != this.array.length) {\n",
       "      canvas.width = this.array[0].length;\n",
       "      canvas.height = this.array.length;\n",
       "    }\n",
       "    const ctx = canvas.getContext('2d');\n",
       "    const bitmap = ctx.getImageData(0, 0, canvas.width, canvas.height);\n",
       "    for (let y = 0; y < canvas.height; y++) {\n",
       "      for (let x = 0; x < canvas.width; x++) {\n",
       "        const value = this.array[y][x];\n",
       "        const pixel = (y * canvas.width + x) * 4;  // 4 bytes per pixel, RGBA\n",
       "        // monochromatic color scheme\n",
       "        bitmap.data[pixel + 0] = value * 255  + 30 * (value > 0);\n",
       "        bitmap.data[pixel + 1] = value * 255  + 30 * (value > 0);\n",
       "        bitmap.data[pixel + 2] = value * 255  + 30 * (value > 0);\n",
       "        bitmap.data[pixel + 3] = 255;\n",
       "      }\n",
       "    }\n",
       "    ctx.putImageData(bitmap, 0, 0);\n",
       "  }\n",
       "}\n",
       "window.customElements.define('array-image-21955', ArrayImage);\n",
       "\n",
       "</script>\n",
       "\n",
       "<attention-multi-21955 />\n"
      ],
      "text/plain": [
       "<IPython.core.display.HTML object>"
      ]
     },
     "execution_count": 21,
     "metadata": {},
     "output_type": "execute_result"
    }
   ],
   "source": [
    "vis('attention_multi.html')"
   ]
  },
  {
   "cell_type": "code",
   "execution_count": null,
   "metadata": {},
   "outputs": [],
   "source": []
  }
 ],
 "metadata": {
  "kernelspec": {
   "display_name": "Python 3.10.2 ('venv': venv)",
   "language": "python",
   "name": "python3"
  },
  "language_info": {
   "codemirror_mode": {
    "name": "ipython",
    "version": 3
   },
   "file_extension": ".py",
   "mimetype": "text/x-python",
   "name": "python",
   "nbconvert_exporter": "python",
   "pygments_lexer": "ipython3",
   "version": "3.10.2"
  },
  "orig_nbformat": 4,
  "vscode": {
   "interpreter": {
    "hash": "a88fa7083bfa7262872ce3247eeaf5b1e82ea353a84f2cb0b6aaf9a2f44d99ff"
   }
  }
 },
 "nbformat": 4,
 "nbformat_minor": 2
}
